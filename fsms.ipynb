{
 "cells": [
  {
   "cell_type": "markdown",
   "metadata": {},
   "source": [
    "# Modelling Finite State Machines."
   ]
  },
  {
   "cell_type": "markdown",
   "metadata": {},
   "source": [
    "In this workshop we code up a small world model in python. This model is called Snowrush. The rules are as follows:\n",
    "* You start of at home with some energy \"E\". \n",
    "* It is snowing outside and you go out.\n",
    "* Once outside, there are three possible scenarios.\n",
    "   * You step on snow, slip and fall down and loose some energy.\n",
    "   * You step on grass, take rest and gain some energy.\n",
    "   * You fall in a pit and die.\n",
    "   \n",
    "So can we represent this model as a state diagram?"
   ]
  },
  {
   "cell_type": "markdown",
   "metadata": {},
   "source": [
    "<img src=\"snowrush.png\" width=700/>"
   ]
  },
  {
   "cell_type": "code",
   "execution_count": 74,
   "metadata": {
    "collapsed": false
   },
   "outputs": [
    {
     "name": "stdout",
     "output_type": "stream",
     "text": [
      "Hello gmeneze\n"
     ]
    }
   ],
   "source": [
    "from __future__ import print_function, division\n",
    "import random\n",
    "\n",
    "# TODO 1: Fill in your unity ID\n",
    "__name__ = \"gmeneze\"\n",
    "\n",
    "def kv(d):\n",
    "    \"\"\"\n",
    "    Pretty Print the dictionary.\n",
    "    \"\"\"\n",
    "    return '(' + ','.join(['%s: %s'%(k, d[k]) for k in sorted(d.keys()) if k[0] != \"_\"]) + ')'\n",
    "\n",
    "\n",
    "def shuffle(lst):\n",
    "    \"\"\"\n",
    "    Shuffle a list and return it.\n",
    "    \"\"\"\n",
    "    random.shuffle(lst)\n",
    "    return lst\n",
    "\n",
    "## Function to get the random value between a lower and upper bound. \n",
    "randint = random.randint\n",
    "\n",
    "class O(object):\n",
    "    \"\"\"\n",
    "    Basic Class which every other class inherits\n",
    "    \"\"\"\n",
    "    def __init__(self, **kwargs):\n",
    "        self.__dict__.update(kwargs)\n",
    "    \n",
    "    def __repr__(self):\n",
    "        return self.__class__.__name__ + kv(self.__dict__)\n",
    "    \n",
    "print(\"Hello %s\"%__name__)"
   ]
  },
  {
   "cell_type": "code",
   "execution_count": 75,
   "metadata": {
    "collapsed": false
   },
   "outputs": [],
   "source": [
    "class State(O):\n",
    "    \"\"\"\n",
    "    State object\n",
    "    \"\"\"\n",
    "    visit_limit = 5\n",
    "    def __init__(self, name):\n",
    "        \"\"\"\n",
    "        Initialize a state.\n",
    "        @param name: Name of the state\n",
    "        @return: State object with\n",
    "            name: Name of the state\n",
    "            out: List of transitions \n",
    "            visits: Number of times the state was visited if not declared as a loop\n",
    "        \"\"\"\n",
    "        O.__init__(self, name=name, out=[], visits = 0)\n",
    "        \n",
    "    def is_stop(self):\n",
    "        \"\"\"\n",
    "        Check if state is a stop state\n",
    "        \"\"\"\n",
    "        return self.name[-1] == \".\"\n",
    "    \n",
    "    def is_loop(self):\n",
    "        \"\"\"\n",
    "        Check if state is a possible loop state\n",
    "        \"\"\"\n",
    "        return self.name[0] == \"#\"\n",
    "    \n",
    "    def arrive(self):\n",
    "        \"\"\"\n",
    "        Move to the state if not a loop\n",
    "        \"\"\"\n",
    "        if not self.is_loop():\n",
    "            self.visits += 1\n",
    "            assert self.visits <= State.visit_limit, \"Loop Encountered\"\n",
    "            \n",
    "    def next(self, record):\n",
    "        \"\"\"\n",
    "        Move to next state from a list of possible transitions\n",
    "        \"\"\"\n",
    "        for trans in shuffle(self.out):\n",
    "            if trans.guard(record, trans):\n",
    "                return trans.there\n",
    "        return self\n",
    "        "
   ]
  },
  {
   "cell_type": "code",
   "execution_count": 76,
   "metadata": {
    "collapsed": false
   },
   "outputs": [],
   "source": [
    "class Trans(O):\n",
    "    # Transition Class\n",
    "    def __init__(self, here, guard, there):\n",
    "        \"\"\"\n",
    "        @param here: starting state\n",
    "        @param guard: transfer function\n",
    "        @param there: ending state\n",
    "        \"\"\"\n",
    "        O.__init__(self, here = here, guard = guard, there = there)"
   ]
  },
  {
   "cell_type": "code",
   "execution_count": 77,
   "metadata": {
    "collapsed": false
   },
   "outputs": [],
   "source": [
    "class Machine(O):\n",
    "    def __init__(self, label, data=0):\n",
    "        \"\"\"\n",
    "        Create an instance of machine.\n",
    "        @param label: Label representing the machine\n",
    "        @param data: Data used to describe the machine. In case of this world model, data represents energy\n",
    "        \"\"\"\n",
    "        O.__init__(self, label = label, # Label of the machine\n",
    "                   states = {}, # Possible state of the machine\n",
    "                   here = None, # Current state of the machine\n",
    "                   data = data) # Data used to describe the machine\n",
    "        \n",
    "    def add_state(self, name):\n",
    "        # TODO 2: \n",
    "        # Add a state to the machine.\n",
    "        # Create an instance of state, add it to the states map. Also if \n",
    "        # the current state is None, set it to this state.\n",
    "        # Also return the state\n",
    "        state = State(name)\n",
    "        self.states[name] = state\n",
    "        if self.here is None:\n",
    "            self.here = state\n",
    "        return state\n",
    "        \n",
    "    def add_trans(self, *trans):\n",
    "        # TODO 3: For every transition in the list *trans, add the\n",
    "        # transition to the \"out\" list in the \"here\" state\n",
    "        for tran in trans:\n",
    "            tran.here.out.append(tran)\n",
    "        pass\n",
    "            \n",
    "    def step(self):\n",
    "        # TODO 4: Move the machine to the next state if it is currently not in the stop state.\n",
    "        if self.here.is_stop():\n",
    "            self.here = self.here.next(self)\n",
    "        pass\n",
    "    "
   ]
  },
  {
   "cell_type": "code",
   "execution_count": 78,
   "metadata": {
    "collapsed": true
   },
   "outputs": [],
   "source": [
    "class Factory(O):\n",
    "    \"\"\"\n",
    "    Factory that generates machines.\n",
    "    \"\"\"\n",
    "    def __init__(self):\n",
    "        \"\"\"\n",
    "        Initialize the factory.\n",
    "        \"\"\"\n",
    "        O.__init__(self, machines = [])\n",
    "        \n",
    "    def make_machine(self, label, data=0):\n",
    "        # TODO 5: Create a new machine and add it to\n",
    "        # the list \"machines\" and return the machine\n",
    "        machine = Machine(\"new_machine\")\n",
    "        self.machines.append(machine)\n",
    "        return machine\n",
    "    \n",
    "    def run(self, seed=1, ticks=100):\n",
    "        \"\"\"\n",
    "        Run all the machines\n",
    "        \"\"\"\n",
    "        print('Seed : ', seed)\n",
    "        random.seed(seed)\n",
    "        for _ in range(ticks):\n",
    "            alive = False\n",
    "            for machine in shuffle(self.machines):\n",
    "                if not machine.here.is_stop():\n",
    "                    alive = True\n",
    "                    machine.step()\n",
    "                    self.report(machine.label)\n",
    "                    break\n",
    "            if not alive: break\n",
    "                \n",
    "    def report(self, name):\n",
    "        \"\"\"\n",
    "        Report the runs\n",
    "        \"\"\"\n",
    "        max_len = 50\n",
    "        lst = [0]*(max_len + 1)\n",
    "        for machine in self.machines:\n",
    "            lst[machine.data] += machine.label\n",
    "        show = lambda x: str(x if x else '.')\n",
    "        print(name, \" | \", \" \".join(map(show, lst)))\n",
    "    "
   ]
  },
  {
   "cell_type": "code",
   "execution_count": 79,
   "metadata": {
    "collapsed": true
   },
   "outputs": [],
   "source": [
    "snow_chance = 0.5\n",
    "grass_chance = 0.5\n",
    "pit_chance = 0.5\n",
    "\n",
    "def snow(m, t):\n",
    "    \"\"\"\n",
    "    Transition Function for snow\n",
    "    @param m: instance of Machine\n",
    "    @param t: instance of Trans \n",
    "    \n",
    "    \"\"\"\n",
    "    # TODO 6: If chance < snow_chance, reduce the machine's energy\n",
    "    # by a random integer between [1, 5] and return True. Else return False\n",
    "    if random.random() < snow_chance:\n",
    "        m.data -= randint(1,5)\n",
    "        return True\n",
    "    return False\n",
    "\n",
    "def grass(m, t):\n",
    "    \"\"\"\n",
    "    Transition Function for grass\n",
    "    @param m: instance of Machine\n",
    "    @param t: instance of Trans\n",
    "    \"\"\"\n",
    "    # TODO 7: If chance < grass_chance, increase the machine's energy\n",
    "    # by a random integer between [1, 5] and return True. Else return False\n",
    "    if random.random() < grass_chance:\n",
    "        m.data += randint(1,5)\n",
    "        return True\n",
    "    return False\n",
    "        \n",
    "def pit(m, t):\n",
    "    \"\"\"\n",
    "    Return if chance < pit_chance.\n",
    "    \"\"\"\n",
    "    return random.random() < pit_chance\n",
    " \n",
    "\n",
    "def walk(m, t):\n",
    "    \"\"\"\n",
    "    Walk from a state\n",
    "    :param m: machine\n",
    "    :param t: trans object\n",
    "    :return:\n",
    "    \"\"\"\n",
    "    return True"
   ]
  },
  {
   "cell_type": "code",
   "execution_count": 80,
   "metadata": {
    "collapsed": true
   },
   "outputs": [],
   "source": [
    "def fsm(factory, label, data):\n",
    "    m = factory.make_machine(label, data)\n",
    "    # TODO 8: Using the functions and classes defined above code up the\n",
    "    # state machine in the figure at the top of the page.\n",
    "    start = m.add_state(\"start\")\n",
    "    outside = m.add_state(\"#outside\")\n",
    "    end = m.add_state(\"dead.\")\n",
    "    m.add_trans(Trans(start, walk, outside),\n",
    "                Trans(outside, grass, outside),\n",
    "                Trans(outside, snow, outside),\n",
    "                Trans(outside, pit, end))\n",
    "    \n",
    "    return m"
   ]
  },
  {
   "cell_type": "code",
   "execution_count": 81,
   "metadata": {
    "collapsed": false
   },
   "outputs": [
    {
     "name": "stdout",
     "output_type": "stream",
     "text": [
      "Seed :  100\n"
     ]
    },
    {
     "ename": "TypeError",
     "evalue": "unsupported operand type(s) for +=: 'int' and 'str'",
     "output_type": "error",
     "traceback": [
      "\u001b[0;31m---------------------------------------------------------------------------\u001b[0m",
      "\u001b[0;31mTypeError\u001b[0m                                 Traceback (most recent call last)",
      "\u001b[0;32m<ipython-input-81-cc444a1ae3d3>\u001b[0m in \u001b[0;36m<module>\u001b[0;34m()\u001b[0m\n\u001b[1;32m      3\u001b[0m \u001b[0mfsm\u001b[0m\u001b[0;34m(\u001b[0m\u001b[0mf\u001b[0m\u001b[0;34m,\u001b[0m \u001b[0;36m2\u001b[0m\u001b[0;34m,\u001b[0m \u001b[0;36m25\u001b[0m\u001b[0;34m)\u001b[0m\u001b[0;34m\u001b[0m\u001b[0m\n\u001b[1;32m      4\u001b[0m \u001b[0mfsm\u001b[0m\u001b[0;34m(\u001b[0m\u001b[0mf\u001b[0m\u001b[0;34m,\u001b[0m \u001b[0;36m4\u001b[0m\u001b[0;34m,\u001b[0m \u001b[0;36m25\u001b[0m\u001b[0;34m)\u001b[0m\u001b[0;34m\u001b[0m\u001b[0m\n\u001b[0;32m----> 5\u001b[0;31m \u001b[0mf\u001b[0m\u001b[0;34m.\u001b[0m\u001b[0mrun\u001b[0m\u001b[0;34m(\u001b[0m\u001b[0;36m100\u001b[0m\u001b[0;34m)\u001b[0m\u001b[0;34m\u001b[0m\u001b[0m\n\u001b[0m",
      "\u001b[0;32m<ipython-input-78-ff9017a83555>\u001b[0m in \u001b[0;36mrun\u001b[0;34m(self, seed, ticks)\u001b[0m\n\u001b[1;32m     28\u001b[0m                     \u001b[0malive\u001b[0m \u001b[0;34m=\u001b[0m \u001b[0;32mTrue\u001b[0m\u001b[0;34m\u001b[0m\u001b[0m\n\u001b[1;32m     29\u001b[0m                     \u001b[0mmachine\u001b[0m\u001b[0;34m.\u001b[0m\u001b[0mstep\u001b[0m\u001b[0;34m(\u001b[0m\u001b[0;34m)\u001b[0m\u001b[0;34m\u001b[0m\u001b[0m\n\u001b[0;32m---> 30\u001b[0;31m                     \u001b[0mself\u001b[0m\u001b[0;34m.\u001b[0m\u001b[0mreport\u001b[0m\u001b[0;34m(\u001b[0m\u001b[0mmachine\u001b[0m\u001b[0;34m.\u001b[0m\u001b[0mlabel\u001b[0m\u001b[0;34m)\u001b[0m\u001b[0;34m\u001b[0m\u001b[0m\n\u001b[0m\u001b[1;32m     31\u001b[0m                     \u001b[0;32mbreak\u001b[0m\u001b[0;34m\u001b[0m\u001b[0m\n\u001b[1;32m     32\u001b[0m             \u001b[0;32mif\u001b[0m \u001b[0;32mnot\u001b[0m \u001b[0malive\u001b[0m\u001b[0;34m:\u001b[0m \u001b[0;32mbreak\u001b[0m\u001b[0;34m\u001b[0m\u001b[0m\n",
      "\u001b[0;32m<ipython-input-78-ff9017a83555>\u001b[0m in \u001b[0;36mreport\u001b[0;34m(self, name)\u001b[0m\n\u001b[1;32m     39\u001b[0m         \u001b[0mlst\u001b[0m \u001b[0;34m=\u001b[0m \u001b[0;34m[\u001b[0m\u001b[0;36m0\u001b[0m\u001b[0;34m]\u001b[0m\u001b[0;34m*\u001b[0m\u001b[0;34m(\u001b[0m\u001b[0mmax_len\u001b[0m \u001b[0;34m+\u001b[0m \u001b[0;36m1\u001b[0m\u001b[0;34m)\u001b[0m\u001b[0;34m\u001b[0m\u001b[0m\n\u001b[1;32m     40\u001b[0m         \u001b[0;32mfor\u001b[0m \u001b[0mmachine\u001b[0m \u001b[0;32min\u001b[0m \u001b[0mself\u001b[0m\u001b[0;34m.\u001b[0m\u001b[0mmachines\u001b[0m\u001b[0;34m:\u001b[0m\u001b[0;34m\u001b[0m\u001b[0m\n\u001b[0;32m---> 41\u001b[0;31m             \u001b[0mlst\u001b[0m\u001b[0;34m[\u001b[0m\u001b[0mmachine\u001b[0m\u001b[0;34m.\u001b[0m\u001b[0mdata\u001b[0m\u001b[0;34m]\u001b[0m \u001b[0;34m+=\u001b[0m \u001b[0mmachine\u001b[0m\u001b[0;34m.\u001b[0m\u001b[0mlabel\u001b[0m\u001b[0;34m\u001b[0m\u001b[0m\n\u001b[0m\u001b[1;32m     42\u001b[0m         \u001b[0mshow\u001b[0m \u001b[0;34m=\u001b[0m \u001b[0;32mlambda\u001b[0m \u001b[0mx\u001b[0m\u001b[0;34m:\u001b[0m \u001b[0mstr\u001b[0m\u001b[0;34m(\u001b[0m\u001b[0mx\u001b[0m \u001b[0;32mif\u001b[0m \u001b[0mx\u001b[0m \u001b[0;32melse\u001b[0m \u001b[0;34m'.'\u001b[0m\u001b[0;34m)\u001b[0m\u001b[0;34m\u001b[0m\u001b[0m\n\u001b[1;32m     43\u001b[0m         \u001b[0mprint\u001b[0m\u001b[0;34m(\u001b[0m\u001b[0mname\u001b[0m\u001b[0;34m,\u001b[0m \u001b[0;34m\" | \"\u001b[0m\u001b[0;34m,\u001b[0m \u001b[0;34m\" \"\u001b[0m\u001b[0;34m.\u001b[0m\u001b[0mjoin\u001b[0m\u001b[0;34m(\u001b[0m\u001b[0mmap\u001b[0m\u001b[0;34m(\u001b[0m\u001b[0mshow\u001b[0m\u001b[0;34m,\u001b[0m \u001b[0mlst\u001b[0m\u001b[0;34m)\u001b[0m\u001b[0;34m)\u001b[0m\u001b[0;34m)\u001b[0m\u001b[0;34m\u001b[0m\u001b[0m\n",
      "\u001b[0;31mTypeError\u001b[0m: unsupported operand type(s) for +=: 'int' and 'str'"
     ]
    }
   ],
   "source": [
    "f = Factory()\n",
    "fsm(f, 1, 25)\n",
    "fsm(f, 2, 25)\n",
    "fsm(f, 4, 25)\n",
    "f.run(100)"
   ]
  },
  {
   "cell_type": "code",
   "execution_count": null,
   "metadata": {
    "collapsed": true
   },
   "outputs": [],
   "source": [
    "# TODO 9 : Suggest an upgrade to the model by adding more transitions/states and check out the results"
   ]
  },
  {
   "cell_type": "code",
   "execution_count": null,
   "metadata": {
    "collapsed": true
   },
   "outputs": [],
   "source": []
  },
  {
   "cell_type": "code",
   "execution_count": null,
   "metadata": {
    "collapsed": true
   },
   "outputs": [],
   "source": []
  },
  {
   "cell_type": "code",
   "execution_count": null,
   "metadata": {
    "collapsed": true
   },
   "outputs": [],
   "source": []
  }
 ],
 "metadata": {
  "kernelspec": {
   "display_name": "Python 3",
   "language": "python",
   "name": "python3"
  },
  "language_info": {
   "codemirror_mode": {
    "name": "ipython",
    "version": 3
   },
   "file_extension": ".py",
   "mimetype": "text/x-python",
   "name": "python",
   "nbconvert_exporter": "python",
   "pygments_lexer": "ipython3",
   "version": "3.5.2"
  }
 },
 "nbformat": 4,
 "nbformat_minor": 0
}
